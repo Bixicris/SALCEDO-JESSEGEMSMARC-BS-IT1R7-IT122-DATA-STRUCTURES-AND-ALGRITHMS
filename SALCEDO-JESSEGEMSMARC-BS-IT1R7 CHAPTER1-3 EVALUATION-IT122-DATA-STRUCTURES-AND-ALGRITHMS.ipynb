{
 "cells": [
  {
   "cell_type": "code",
   "execution_count": 2,
   "id": "fuzzy-personality",
   "metadata": {},
   "outputs": [
    {
     "name": "stdout",
     "output_type": "stream",
     "text": [
      "Discuss your learnings on Chapter 1  time-frame 8:00 - 30:35. Minimum of 200 characters\n",
      "Chapter 1 learnings are the following\n",
      "I learned that an Algotrithm is a step by step process to create an output.\n",
      "Data Structure is a way to organize data and for easy access.\n",
      "For operations of Data Structure, time is a must. The running time or the execution time must be as small as possible\n",
      "Memory usage of a data structure should also be as little as possible.\n",
      "I learned that Data can be organized and the required data can be searched instantly\n"
     ]
    }
   ],
   "source": [
    "print(\"Discuss your learnings on Chapter 1  time-frame 8:00 - 30:35. Minimum of 200 characters\")\n",
    "\n",
    "print(\"Chapter 1 learnings are the following\")\n",
    "print(\"I learned that an Algotrithm is a step by step process to create an output.\")\n",
    "print(\"Data Structure is a way to organize data and for easy access.\")\n",
    "print(\"For operations of Data Structure, time is a must. The running time or the execution time must be as small as possible\")\n",
    "print(\"Memory usage of a data structure should also be as little as possible.\")\n",
    "print(\"I learned that Data can be organized and the required data can be searched instantly\")\n"
   ]
  },
  {
   "cell_type": "code",
   "execution_count": 3,
   "id": "dependent-volunteer",
   "metadata": {},
   "outputs": [
    {
     "name": "stdout",
     "output_type": "stream",
     "text": [
      "Discuss your learnings on Chapter 1  time-frame 35:00 - end. Minimum of 200 characters\n",
      "Chapter 1 learnings are the following\n",
      "I learned that there 2 complexity of algorithm\n",
      "Time is measured by counting the number of key operations such as comparisons in the sorting algorithm\n",
      "Space is measured by counting the maximum memory space required by the algorithm\n",
      "I learned that Space Complexity shows the amount of memory space required by the Algorithm in its life cycle\n"
     ]
    }
   ],
   "source": [
    "print(\"Discuss your learnings on Chapter 1  time-frame 35:00 - end. Minimum of 200 characters\")\n",
    "\n",
    "print(\"Chapter 1 learnings are the following\")\n",
    "print(\"I learned that there 2 complexity of algorithm\")\n",
    "print(\"Time is measured by counting the number of key operations such as comparisons in the sorting algorithm\")\n",
    "print(\"Space is measured by counting the maximum memory space required by the algorithm\")\n",
    "print(\"I learned that Space Complexity shows the amount of memory space required by the Algorithm in its life cycle\")"
   ]
  },
  {
   "cell_type": "code",
   "execution_count": 4,
   "id": "integral-harmony",
   "metadata": {},
   "outputs": [
    {
     "name": "stdout",
     "output_type": "stream",
     "text": [
      "Discuss your learnings on Chapter 2  time-frame 5:00 - 9:00. Minimum of 200 characters\n",
      "Chapter 2 learnings are the following\n",
      "I learned that a Data Object represents an object having a Data\n",
      "And there are 4 Derived Data Type\n",
      "These Data Types are normally built by the combination of primary or built-in data types and associated operations on them\n",
      "These 4 Derived Data Type are List, Array, Stack, Queue\n",
      "I also learned the Basic Operations such as Traversing, Searching, Insertion, Deletion, Sorting and Merging\n"
     ]
    }
   ],
   "source": [
    "print(\"Discuss your learnings on Chapter 2  time-frame 5:00 - 9:00. Minimum of 200 characters\")\n",
    "\n",
    "print(\"Chapter 2 learnings are the following\") \n",
    "print(\"I learned that a Data Object represents an object having a Data\")\n",
    "print(\"And there are 4 Derived Data Type\")\n",
    "print(\"These Data Types are normally built by the combination of primary or built-in data types and associated operations on them\")\n",
    "print(\"These 4 Derived Data Type are List, Array, Stack, Queue\")\n",
    "print(\"I also learned the Basic Operations such as Traversing, Searching, Insertion, Deletion, Sorting and Merging\")"
   ]
  },
  {
   "cell_type": "code",
   "execution_count": 5,
   "id": "senior-capture",
   "metadata": {},
   "outputs": [
    {
     "name": "stdout",
     "output_type": "stream",
     "text": [
      "Discuss your learnings on Chapter 3  time-frame 3:00 - 18:00. Minimum of 200 characters\n",
      "Chapter 3 learnings are the following\n",
      "I learned that an Array is a container which can hold a fix number of items and these items should be of the same type\n",
      "Each item stored in an Array is called an Element\n",
      "To identify an element, each location of an element in an array has a numerical Index\n",
      "Arrays can be declared in various ways in different languages\n"
     ]
    }
   ],
   "source": [
    "print(\"Discuss your learnings on Chapter 3  time-frame 3:00 - 18:00. Minimum of 200 characters\")\n",
    "\n",
    "print(\"Chapter 3 learnings are the following\")\n",
    "print(\"I learned that an Array is a container which can hold a fix number of items and these items should be of the same type\")\n",
    "print(\"Each item stored in an Array is called an Element\")\n",
    "print(\"To identify an element, each location of an element in an array has a numerical Index\")\n",
    "print(\"Arrays can be declared in various ways in different languages\")"
   ]
  },
  {
   "cell_type": "code",
   "execution_count": 8,
   "id": "final-saying",
   "metadata": {},
   "outputs": [
    {
     "name": "stdout",
     "output_type": "stream",
     "text": [
      "200\n",
      "100\n",
      "90000\n",
      "3232\n",
      "3232\n"
     ]
    }
   ],
   "source": [
    "from array import *\n",
    "arrayName = array('I',[200,32,3232,3232,3232])\n",
    "arrayName.insert(3,90000)\n",
    "arrayName.remove(3232)\n",
    "arrayName[1] = 100\n",
    "for x in arrayName:\n",
    "    print(x)"
   ]
  },
  {
   "cell_type": "code",
   "execution_count": null,
   "id": "liquid-procurement",
   "metadata": {},
   "outputs": [],
   "source": []
  }
 ],
 "metadata": {
  "kernelspec": {
   "display_name": "Python 3",
   "language": "python",
   "name": "python3"
  },
  "language_info": {
   "codemirror_mode": {
    "name": "ipython",
    "version": 3
   },
   "file_extension": ".py",
   "mimetype": "text/x-python",
   "name": "python",
   "nbconvert_exporter": "python",
   "pygments_lexer": "ipython3",
   "version": "3.9.2"
  }
 },
 "nbformat": 4,
 "nbformat_minor": 5
}
